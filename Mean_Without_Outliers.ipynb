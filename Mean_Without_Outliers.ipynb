{
 "cells": [
  {
   "cell_type": "markdown",
   "id": "61702964",
   "metadata": {},
   "source": [
    "# Mean without outliers"
   ]
  },
  {
   "cell_type": "code",
   "execution_count": 1,
   "id": "cffc2cd6",
   "metadata": {},
   "outputs": [],
   "source": [
    "import numpy as np\n",
    "import pandas as pd"
   ]
  },
  {
   "cell_type": "markdown",
   "id": "f07b0a81",
   "metadata": {},
   "source": [
    "As you already know, the mean is defined by:\n",
    "\n",
    "$$ \\bar{x} = \\frac{1}{n} \\sum_{i=0}^{n} x_i = \\frac{x_1 + x_2 + ... + x_{n-1} + x_n}{n}$$\n",
    "\n",
    "However, an outlier can wrongly influence the mean.\n",
    "\n",
    "The median is a more robust measure of central tendancy.\n",
    "\n",
    "But what if we could create a function `mean_without_outliers` to compute - as the name says - the mean without outliers ?"
   ]
  },
  {
   "cell_type": "markdown",
   "id": "d22525af",
   "metadata": {},
   "source": [
    "## Preliminary step: defining `outliers`\n",
    "\n",
    "This question implies a preliminary step: what is an `outlier` ?\n",
    "\n",
    "For each observation:\n",
    "\n",
    "* `option 1:` We could consider that an outlier is an observation with a **`z-score`** below -3 or above 3 for example. \n",
    "    - But it implies a strong assumption: you are assuming that your distribution is Gaussian.\n",
    "    - We could also be stricter with the z-score replacing 3-std-limit by 2, or more loose replacing the 3-std-limit by 4 or 5...\n",
    "\n",
    "* `option 2:` We could use the definition of an outlier in a **`whisker boxplot`** where an outlier is an observation that lives below `Q1 - 1.5 IQR` or above `Q3 + 1.5 IQR`"
   ]
  },
  {
   "cell_type": "code",
   "execution_count": 2,
   "id": "6bd0cf26",
   "metadata": {},
   "outputs": [],
   "source": [
    "sample = [1, 2, 3, 4, 5, 6, 7, 8, 9, 10, 100]"
   ]
  },
  {
   "cell_type": "markdown",
   "id": "da2544ef",
   "metadata": {},
   "source": [
    "## Outliers defined by Z-score"
   ]
  },
  {
   "cell_type": "markdown",
   "id": "c14556b5",
   "metadata": {},
   "source": [
    "### Draft\n",
    "\n",
    "- For your sample, compute:\n",
    "    - the mean\n",
    "    - the standard deviation\n",
    "    - the z-score of each observation\n",
    "- Remove the outliers (observation with a z-score higher than your cutoff or lower than -cutoff\n",
    "- Compute the mean with the remaining elements\n",
    "\n",
    "Once you are satisfied with your steps, you can wrap these steps up into a single function in the next section of this notebook."
   ]
  },
  {
   "cell_type": "code",
   "execution_count": 3,
   "id": "5e0406c8",
   "metadata": {},
   "outputs": [
    {
     "name": "stdout",
     "output_type": "stream",
     "text": [
      "\n",
      "-------------------------------------------------------------------------------\n",
      "sample_mean = 14.090909090909092\n",
      "sample_std = 27.304526915561905\n",
      "sample_z_scores = array([-0.47944098, -0.44281701, -0.40619305, -0.36956909, -0.33294512,\n",
      "       -0.29632116, -0.2596972 , -0.22307323, -0.18644927, -0.14982531,\n",
      "        3.14633142])\n",
      "....................................................\n",
      "cutoff = 3\n",
      "np.abs(sample_z_scores) >= 3 = array([False, False, False, False, False, False, False, False, False,\n",
      "       False,  True])\n",
      "filtered = [1, 2, 3, 4, 5, 6, 7, 8, 9, 10]\n",
      "np.mean(filtered) = 5.5\n",
      "\n"
     ]
    }
   ],
   "source": [
    "sample_mean = np.mean(sample)\n",
    "sample_std = np.std(sample)\n",
    "sample_z_scores = (sample - sample_mean)/sample_std\n",
    "\n",
    "cutoff = 3 # standard deviations\n",
    "\n",
    "np.abs(sample_z_scores) >= 3\n",
    "filtered = [x for i, x in enumerate(sample) if (np.abs(sample_z_scores)[i] >= cutoff) == False]\n",
    "np.mean(filtered)\n",
    "\n",
    "print(f\"\"\"\n",
    "-------------------------------------------------------------------------------\n",
    "{sample_mean = }\n",
    "{sample_std = }\n",
    "{sample_z_scores = }\n",
    "....................................................\n",
    "{cutoff = }\n",
    "{np.abs(sample_z_scores) >= 3 = }\n",
    "{filtered = }\n",
    "{np.mean(filtered) = }\n",
    "\"\"\")"
   ]
  },
  {
   "cell_type": "markdown",
   "id": "d5926d67",
   "metadata": {},
   "source": [
    "## `mean_without_outliers_z_score`"
   ]
  },
  {
   "cell_type": "code",
   "execution_count": 4,
   "id": "975dd661",
   "metadata": {},
   "outputs": [],
   "source": [
    "def mean_without_outliers_z_score(elements:list)-> float:\n",
    "    ''' return the mean of of a list of elements without outliers using the z_score'''\n",
    "    # mean and std\n",
    "    mu = np.mean(elements)\n",
    "    sigma = np.std(elements)\n",
    "    \n",
    "    # z-scores \n",
    "    z_scores = (elements - mu)/sigma\n",
    "    \n",
    "    # remove z-scores below -3 or above +3\n",
    "    cutoff = 3\n",
    "    filtered = [x for i, x in enumerate(sample) if (np.abs(sample_z_scores)[i] >= cutoff) == False]\n",
    "    \n",
    "    return np.mean(filtered)\n"
   ]
  },
  {
   "cell_type": "code",
   "execution_count": 5,
   "id": "b51ae571",
   "metadata": {},
   "outputs": [
    {
     "data": {
      "text/plain": [
       "5.5"
      ]
     },
     "execution_count": 5,
     "metadata": {},
     "output_type": "execute_result"
    }
   ],
   "source": [
    "mean_without_outliers_z_score(sample)"
   ]
  },
  {
   "cell_type": "markdown",
   "id": "253e6c2b",
   "metadata": {},
   "source": [
    "## Outliers defined by the boxplot"
   ]
  },
  {
   "cell_type": "markdown",
   "id": "2f300bc4",
   "metadata": {},
   "source": [
    "### Draft\n",
    "\n",
    "- For your sample, compute:\n",
    "    - Q1\n",
    "    - Q3\n",
    "    - IQR\n",
    "    - the lower bound Q1 - 1.5 IQR\n",
    "    - the upper bound Q3 + 1.5 IQR\n",
    "- Remove the outliers (observations that are lower than the lower bound or greaterthan the upper bound\n",
    "- Compute the mean with the remaining elements\n",
    "\n",
    "Once you are satisfied with your steps, you can wrap these steps up into a single function in the next section of this notebook."
   ]
  },
  {
   "cell_type": "code",
   "execution_count": 6,
   "id": "643c4fd6",
   "metadata": {},
   "outputs": [
    {
     "data": {
      "text/plain": [
       "[1, 2, 3, 4, 5, 6, 7, 8, 9, 10, 100]"
      ]
     },
     "execution_count": 6,
     "metadata": {},
     "output_type": "execute_result"
    }
   ],
   "source": [
    "sample"
   ]
  },
  {
   "cell_type": "code",
   "execution_count": 7,
   "id": "8509d80e",
   "metadata": {},
   "outputs": [
    {
     "name": "stdout",
     "output_type": "stream",
     "text": [
      "\n",
      "pd.Series(sample).describe() = count     11.000000\n",
      "mean      14.090909\n",
      "std       28.637229\n",
      "min        1.000000\n",
      "25%        3.500000\n",
      "50%        6.000000\n",
      "75%        8.500000\n",
      "max      100.000000\n",
      "dtype: float64\n",
      "-------------------------------------------------------------------------------------------------------------------------------\n",
      "pd.Series(sample).describe().keys() = Index(['count', 'mean', 'std', 'min', '25%', '50%', '75%', 'max'], dtype='object')\n",
      "pd.Series(sample).describe().keys()[0] = 'count'\n",
      "pd.Series(sample).describe()['count'] = 11.0\n",
      "\n"
     ]
    }
   ],
   "source": [
    "print(f\"\"\"\n",
    "{pd.Series(sample).describe() = }\n",
    "-------------------------------------------------------------------------------------------------------------------------------\n",
    "{pd.Series(sample).describe().keys() = }\n",
    "{pd.Series(sample).describe().keys()[0] = }\n",
    "{pd.Series(sample).describe()['count'] = }\n",
    "\"\"\")"
   ]
  },
  {
   "cell_type": "code",
   "execution_count": 8,
   "id": "91e4fd9e",
   "metadata": {},
   "outputs": [],
   "source": [
    "q1 = pd.Series(sample).describe()[\"25%\"]\n",
    "q3 = pd.Series(sample).describe()[\"75%\"]\n",
    "iqr = q3 - q1\n",
    "# ----------------------\n",
    "lower_bound_outliers = q1 - 1.5 * iqr\n",
    "upper_bound_outliers = q3 + 1.5 * iqr\n"
   ]
  },
  {
   "cell_type": "code",
   "execution_count": 9,
   "id": "d7171639",
   "metadata": {},
   "outputs": [
    {
     "name": "stdout",
     "output_type": "stream",
     "text": [
      "\n",
      "q1  = 3.5\n",
      "q3  = 8.5\n",
      "iqr  = 5.0\n",
      "--------------------------------------------------------------------------------------------------------------------------------\n",
      "lower_bound_outliers  = -4.0\n",
      "upper_bound_outliers  = 16.0\n",
      "\n"
     ]
    }
   ],
   "source": [
    "print(f\"\"\"\n",
    "{q1  = }\n",
    "{q3  = }\n",
    "{iqr  = }\n",
    "--------------------------------------------------------------------------------------------------------------------------------\n",
    "{lower_bound_outliers  = }\n",
    "{upper_bound_outliers  = }\n",
    "\"\"\")"
   ]
  },
  {
   "cell_type": "code",
   "execution_count": 10,
   "id": "71b73b13",
   "metadata": {},
   "outputs": [
    {
     "data": {
      "text/plain": [
       "array([0, 1, 2, 3, 4, 5, 6, 7, 8, 9])"
      ]
     },
     "execution_count": 10,
     "metadata": {},
     "output_type": "execute_result"
    }
   ],
   "source": [
    "filtered = np.where(np.logical_and(sample>=lower_bound_outliers, sample<=upper_bound_outliers))[0]\n",
    "filtered"
   ]
  },
  {
   "cell_type": "code",
   "execution_count": 11,
   "id": "a79416a2",
   "metadata": {},
   "outputs": [
    {
     "data": {
      "text/plain": [
       "4.5"
      ]
     },
     "execution_count": 11,
     "metadata": {},
     "output_type": "execute_result"
    }
   ],
   "source": [
    "np.mean(filtered)"
   ]
  },
  {
   "cell_type": "markdown",
   "id": "391d9e83",
   "metadata": {},
   "source": [
    "### `mean_without_outliers_boxplot`"
   ]
  },
  {
   "cell_type": "code",
   "execution_count": 12,
   "id": "4d243bba",
   "metadata": {},
   "outputs": [],
   "source": [
    "def mean_without_outliers_boxplot(elements):\n",
    "    ''' return the mean of elements without outliers using the boxplot definition'''\n",
    "    # statistics\n",
    "    q1 = pd.Series(elements).describe()[\"25%\"]\n",
    "    q3 = pd.Series(elements).describe()[\"75%\"]\n",
    "    \n",
    "    # computing the inter-quartile range\n",
    "    iqr = q3 - q1\n",
    "    lower = q1 - 1.5 * iqr\n",
    "    upper = q3 + 1.5 * iqr\n",
    "    \n",
    "    # filtering\n",
    "    filtered = np.where(\n",
    "        np.logical_and(\n",
    "            elements>=lower,\n",
    "            elements<=upper\n",
    "        )\n",
    "    )[0]\n",
    "    \n",
    "    return np.mean(np.array(elements)[filtered])"
   ]
  },
  {
   "cell_type": "code",
   "execution_count": 13,
   "id": "c305c3f1",
   "metadata": {},
   "outputs": [
    {
     "data": {
      "text/plain": [
       "5.5"
      ]
     },
     "execution_count": 13,
     "metadata": {},
     "output_type": "execute_result"
    }
   ],
   "source": [
    "mean_without_outliers_boxplot(sample)"
   ]
  },
  {
   "cell_type": "markdown",
   "id": "7c6009c4",
   "metadata": {},
   "source": [
    "## Comparisons"
   ]
  },
  {
   "cell_type": "code",
   "execution_count": 14,
   "id": "d7a432e4",
   "metadata": {},
   "outputs": [
    {
     "data": {
      "text/html": [
       "<div>\n",
       "<style scoped>\n",
       "    .dataframe tbody tr th:only-of-type {\n",
       "        vertical-align: middle;\n",
       "    }\n",
       "\n",
       "    .dataframe tbody tr th {\n",
       "        vertical-align: top;\n",
       "    }\n",
       "\n",
       "    .dataframe thead th {\n",
       "        text-align: right;\n",
       "    }\n",
       "</style>\n",
       "<table border=\"1\" class=\"dataframe\">\n",
       "  <thead>\n",
       "    <tr style=\"text-align: right;\">\n",
       "      <th></th>\n",
       "      <th>method</th>\n",
       "      <th>result</th>\n",
       "    </tr>\n",
       "  </thead>\n",
       "  <tbody>\n",
       "    <tr>\n",
       "      <th>0</th>\n",
       "      <td>mean</td>\n",
       "      <td>14.09</td>\n",
       "    </tr>\n",
       "    <tr>\n",
       "      <th>1</th>\n",
       "      <td>mean filtering by z-score</td>\n",
       "      <td>5.50</td>\n",
       "    </tr>\n",
       "    <tr>\n",
       "      <th>2</th>\n",
       "      <td>mean filtering by outliers</td>\n",
       "      <td>5.50</td>\n",
       "    </tr>\n",
       "  </tbody>\n",
       "</table>\n",
       "</div>"
      ],
      "text/plain": [
       "                       method  result\n",
       "0                        mean   14.09\n",
       "1   mean filtering by z-score    5.50\n",
       "2  mean filtering by outliers    5.50"
      ]
     },
     "execution_count": 14,
     "metadata": {},
     "output_type": "execute_result"
    }
   ],
   "source": [
    "data = {'method': ['mean', 'mean filtering by z-score', 'mean filtering by outliers'], \n",
    "        'result': [np.mean(sample),mean_without_outliers_z_score(sample), mean_without_outliers_boxplot(sample)]}\n",
    "comparison_df = pd.DataFrame(data = data)\n",
    "round(comparison_df,2)"
   ]
  }
 ],
 "metadata": {
  "kernelspec": {
   "display_name": "Python 3 (ipykernel)",
   "language": "python",
   "name": "python3"
  },
  "language_info": {
   "codemirror_mode": {
    "name": "ipython",
    "version": 3
   },
   "file_extension": ".py",
   "mimetype": "text/x-python",
   "name": "python",
   "nbconvert_exporter": "python",
   "pygments_lexer": "ipython3",
   "version": "3.10.6"
  },
  "toc": {
   "base_numbering": 1,
   "nav_menu": {},
   "number_sections": true,
   "sideBar": true,
   "skip_h1_title": false,
   "title_cell": "Table of Contents",
   "title_sidebar": "Contents",
   "toc_cell": false,
   "toc_position": {},
   "toc_section_display": true,
   "toc_window_display": false
  }
 },
 "nbformat": 4,
 "nbformat_minor": 5
}
